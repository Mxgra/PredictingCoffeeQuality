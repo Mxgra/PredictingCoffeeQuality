{
  "cells": [
    {
      "cell_type": "markdown",
      "id": "nv_e-3_cKP2y",
      "metadata": {
        "id": "nv_e-3_cKP2y"
      },
      "source": [
        "# What makes a good coffee?\n",
        "\n",
        "## Notebook of Data Analysis and Rating Prediction\n",
        "\n",
        "This notebook contains all code necessary to perform the same steps we did in our project for Data Literacy. We tried to build a streamlined pipeline we could work through multiple times, in order to run multiple experiments and improve code and figures.\n",
        "\n",
        "We chose google colab as platform to utilize its collaborative possibilities.\n",
        "\n",
        "## Do we need to give the data as well? then check if it works on your machine, add relevant dependencies! Or can we share google colab data folder?\n",
        "\n",
        "\n",
        "## Contents\n",
        "*   Load Data\n",
        "*   First Exploratory Analysis\n",
        " *  Correlation Matrix\n",
        " *  Plotting Features against Ratings\n",
        "*   Data Preprocessing\n",
        "*   Second Exploratory Analysis\n",
        " *  Histograms of Features\n",
        " *  Linear Regression\n",
        "*   Prediction\n",
        " *  Multiple Linear Regression\n",
        " *  Random Forest Regressor\n",
        "\n"
      ]
    },
    {
      "cell_type": "code",
      "execution_count": null,
      "id": "HM6M8Qs__c3V",
      "metadata": {
        "colab": {
          "base_uri": "https://localhost:8080/",
          "height": 538
        },
        "id": "HM6M8Qs__c3V",
        "outputId": "2e3f36b8-5729-4b04-cd49-250275a08243"
      },
      "outputs": [],
      "source": [
        "# For subplot labels we need matplotlib version >= 3.4\n",
        "#!pip install matplotlib --upgrade"
      ]
    },
    {
      "cell_type": "code",
      "execution_count": null,
      "id": "_MCk0CiDOlKJ",
      "metadata": {
        "colab": {
          "base_uri": "https://localhost:8080/"
        },
        "id": "_MCk0CiDOlKJ",
        "outputId": "8ae94f2b-4464-4c66-9523-154955335d7c"
      },
      "outputs": [],
      "source": [
        "# Add google drive to\n",
        "#from google.colab import drive\n",
        "#drive.mount(\"/content/gdrive\")"
      ]
    },
    {
      "cell_type": "markdown",
      "id": "8eKUHtl2o-M6",
      "metadata": {
        "id": "8eKUHtl2o-M6"
      },
      "source": [
        "## Load Data"
      ]
    },
    {
      "cell_type": "code",
      "execution_count": null,
      "id": "66a59eca",
      "metadata": {
        "id": "66a59eca"
      },
      "outputs": [],
      "source": [
        "import pandas as pd\n",
        "import os\n",
        "import matplotlib.pyplot as plt\n",
        "import numpy as np"
      ]
    },
    {
      "cell_type": "code",
      "execution_count": null,
      "id": "0c261568",
      "metadata": {
        "id": "0c261568"
      },
      "outputs": [],
      "source": [
        "\"\"\"\n",
        "We have three datasets, after initial inspecetion set \"coffee_df_with_type_and_region\" contains\n",
        "all combined features, we'll thus be using this\n",
        "\"\"\"\n",
        "\n",
        "coffee_df = \"coffee_df.csv\"\n",
        "coffee_df_og = \"coffee_df_og.csv\"\n",
        "coffee_df_with_type_and_region = \"coffee_df_with_type_and_region.csv\"\n",
        "home_dir = os.getcwd()\n",
        "#home_dir = '/content/gdrive/My Drive/Project'"
      ]
    },
    {
      "cell_type": "code",
      "execution_count": null,
      "id": "1a702a0f",
      "metadata": {
        "id": "1a702a0f"
      },
      "outputs": [],
      "source": [
        "#data = pd.read_csv(os.path.join(home_dir, coffee_df))\n",
        "#data2 = pd.read_csv(os.path.join(home_dir, coffee_df_og))\n",
        "data = pd.read_csv(os.path.join(home_dir, coffee_df_with_type_and_region))"
      ]
    },
    {
      "cell_type": "code",
      "execution_count": null,
      "id": "1f86f89d",
      "metadata": {
        "colab": {
          "base_uri": "https://localhost:8080/"
        },
        "id": "1f86f89d",
        "outputId": "90339464-ab2b-418f-8999-448fb70f1b22"
      },
      "outputs": [],
      "source": [
        "print(data.shape, data.columns)"
      ]
    },
    {
      "cell_type": "markdown",
      "id": "1aexxpuqP6et",
      "metadata": {
        "id": "1aexxpuqP6et"
      },
      "source": [
        "## First Exploratory Analysis"
      ]
    },
    {
      "cell_type": "code",
      "execution_count": null,
      "id": "F3LtCICBY5jh",
      "metadata": {
        "id": "F3LtCICBY5jh"
      },
      "outputs": [],
      "source": [
        "# Make figures bigger\n",
        "plt.rcParams['figure.figsize'] = [10, 5]"
      ]
    },
    {
      "cell_type": "code",
      "execution_count": null,
      "id": "XAk0fx8vYnLE",
      "metadata": {
        "colab": {
          "base_uri": "https://localhost:8080/",
          "height": 433
        },
        "id": "XAk0fx8vYnLE",
        "outputId": "8ef454af-8e34-4b56-9d50-20e2b81dc167"
      },
      "outputs": [],
      "source": [
        "data.rating.value_counts().plot(kind=\"bar\")"
      ]
    },
    {
      "cell_type": "code",
      "execution_count": null,
      "id": "f16ezJAAYfr-",
      "metadata": {
        "colab": {
          "base_uri": "https://localhost:8080/"
        },
        "id": "f16ezJAAYfr-",
        "outputId": "54869c07-3bfe-4c80-9f67-b23e5c56cc63"
      },
      "outputs": [],
      "source": [
        "# Count of all values of all features. Allows to get a quick overview over the data\n",
        "\n",
        "for index in data.columns:\n",
        "  if 'text' in index or 'slug' in index:\n",
        "    continue\n",
        "  else:\n",
        "    print(index)\n",
        "    print('-----------')\n",
        "    print(data[index].value_counts())\n",
        "    print('\\n############\\n')\n"
      ]
    },
    {
      "cell_type": "markdown",
      "id": "uZIrTxGrQjhQ",
      "metadata": {
        "id": "uZIrTxGrQjhQ"
      },
      "source": [
        "### Correlation Matrix"
      ]
    },
    {
      "cell_type": "code",
      "execution_count": null,
      "id": "WB1F3QVsZtlk",
      "metadata": {
        "id": "WB1F3QVsZtlk"
      },
      "outputs": [],
      "source": [
        "data3_corr = data.corr()\n",
        "#data3_corr"
      ]
    },
    {
      "cell_type": "code",
      "execution_count": null,
      "id": "wwGbPyeHHPWE",
      "metadata": {
        "id": "wwGbPyeHHPWE"
      },
      "outputs": [],
      "source": [
        "labels = list(data3_corr)\n",
        "#labels"
      ]
    },
    {
      "cell_type": "code",
      "execution_count": null,
      "id": "lI2NHwkM6jAw",
      "metadata": {
        "colab": {
          "base_uri": "https://localhost:8080/",
          "height": 416
        },
        "id": "lI2NHwkM6jAw",
        "outputId": "b99e5518-20b2-4560-d63b-922c4c8bba08"
      },
      "outputs": [],
      "source": [
        "fig = plt.figure()\n",
        "ax = fig.add_subplot(111)\n",
        "subplotsize=[15.,15.]\n",
        "figuresize=[20.,20.]   \n",
        "cax = ax.matshow(data3_corr, vmin=-1, vmax=1)\n",
        "fig.colorbar(cax)\n",
        "ticks = np.arange(0,len(labels),1)\n",
        "ax.set_xticks(ticks)\n",
        "ax.set_yticks(ticks)\n",
        "ax.set_xticklabels(['' for l in labels], rotation=90, ha='right')\n",
        "ax.set_yticklabels(labels)\n",
        "plt.show()"
      ]
    },
    {
      "cell_type": "markdown",
      "id": "kB5MiKNERBJx",
      "metadata": {
        "id": "kB5MiKNERBJx"
      },
      "source": [
        "We can clearly see correlation in features aroma, acid, body flavor, aftertaste and with_milk. Going forward we work with these features.\n",
        "\n",
        "\n",
        "A word on variable names: as we initially inspected the dataset, we already assumed these columns to probably be the most important. We thus quickly coined the name \"easy_col\", because these columns were easily identified. The correlation matrix supported our assumptions, so we also sticked to the name."
      ]
    },
    {
      "cell_type": "code",
      "execution_count": null,
      "id": "86ee943f",
      "metadata": {
        "id": "86ee943f"
      },
      "outputs": [],
      "source": [
        "#easy_cols = pd.concat([data['rating'], data['agtron'], data['aroma'], data['acid'], data['body'], \n",
        "#                        data['flavor'], data['aftertaste']], axis=1)\n",
        "easy_cols = pd.concat([data['rating'], data['aroma'], data['acid'], data['body'], \n",
        "                        data['flavor'], data['aftertaste'], data['with_milk']], axis=1)"
      ]
    },
    {
      "cell_type": "code",
      "execution_count": null,
      "id": "95c20cb3",
      "metadata": {
        "colab": {
          "base_uri": "https://localhost:8080/"
        },
        "id": "95c20cb3",
        "outputId": "487053f1-9f6c-4972-a029-73da9650049e"
      },
      "outputs": [],
      "source": [
        "print(easy_cols.shape, easy_cols.columns)\n",
        "print(easy_cols.head)"
      ]
    },
    {
      "cell_type": "markdown",
      "id": "FkZfG77Orzy3",
      "metadata": {
        "id": "FkZfG77Orzy3"
      },
      "source": [
        "### Correlation matrix of easy_cols"
      ]
    },
    {
      "cell_type": "code",
      "execution_count": null,
      "id": "8SlVE9m7r8bM",
      "metadata": {
        "colab": {
          "base_uri": "https://localhost:8080/",
          "height": 236
        },
        "id": "8SlVE9m7r8bM",
        "outputId": "f5db0e7f-ad5a-4571-9b20-68f6f6bfac71"
      },
      "outputs": [],
      "source": [
        "#plt.matshow(easy_cols.corr())\n",
        "#plt.xticks(list(easy_cols))\n",
        "\n",
        "corr_mat = easy_cols.corr()\n",
        "\n",
        "# plot correlation matrix\n",
        "fig = plt.figure()\n",
        "ax = fig.add_subplot(111)\n",
        "#subplotsize=[8.,8.]\n",
        "#figuresize=[10.,10.]   \n",
        "#left = 0.5*(1.-subplotsize[0]/figuresize[0])\n",
        "#right = 1.-left\n",
        "#bottom = 0.5*(1.-subplotsize[1]/figuresize[1])\n",
        "#top = 1.-bottom\n",
        "#fig.subplots_adjust(left=left,right=right,bottom=bottom,top=top)\n",
        "cax = ax.matshow(corr_mat, vmin=-1, vmax=1)\n",
        "fig.colorbar(cax)\n",
        "ticks = np.arange(0,7,1)\n",
        "ax.set_xticks(ticks)\n",
        "ax.set_yticks(ticks)\n",
        "ax.set_xticklabels(list(easy_cols))\n",
        "ax.set_yticklabels(list(easy_cols))\n",
        "plt.show()"
      ]
    },
    {
      "cell_type": "markdown",
      "id": "b0f1d01b",
      "metadata": {
        "id": "b0f1d01b"
      },
      "source": [
        "### Plotting properties wrt. ratings"
      ]
    },
    {
      "cell_type": "code",
      "execution_count": null,
      "id": "eefa376a",
      "metadata": {
        "colab": {
          "base_uri": "https://localhost:8080/"
        },
        "id": "eefa376a",
        "outputId": "b78ef257-270f-4936-8571-a0fea5998ec0"
      },
      "outputs": [],
      "source": [
        "easy_cols_mean = easy_cols.mean()\n",
        "easy_cols_std = easy_cols.std()\n",
        "easy_cols_var = easy_cols.var()\n",
        "\n",
        "print(\"Mean:\\n\", easy_cols.mean())\n",
        "print(\"Standard deviation:\\n\" , easy_cols.std())\n",
        "print(\"Variance:\\n\", easy_cols.var())"
      ]
    },
    {
      "cell_type": "code",
      "execution_count": null,
      "id": "0057a73c",
      "metadata": {
        "id": "0057a73c"
      },
      "outputs": [],
      "source": [
        "# setting figure size\n",
        "plt.rcParams['figure.figsize'] = [20, 10]"
      ]
    },
    {
      "cell_type": "code",
      "execution_count": null,
      "id": "f0f24105",
      "metadata": {
        "colab": {
          "base_uri": "https://localhost:8080/",
          "height": 756
        },
        "id": "f0f24105",
        "outputId": "cb727b6e-9caf-4526-e3a7-9ad7a6a950dd"
      },
      "outputs": [],
      "source": [
        "fig, axis = plt.subplots(2, 3)\n",
        "fig.patch.set_facecolor('white')\n",
        "\n",
        "axis[0,0].scatter(easy_cols['rating'], easy_cols['aroma'])\n",
        "axis[0,0].plot(easy_cols['rating'], [easy_cols_mean['aroma'] for i in range(len(easy_cols['rating']))], color='black')\n",
        "axis[0,0].set_title('Aroma')\n",
        "axis[0,1].scatter(easy_cols['rating'], easy_cols['acid'])\n",
        "axis[0,1].plot(easy_cols['rating'], [easy_cols_mean['acid'] for i in range(len(easy_cols['rating']))], color='black')\n",
        "axis[0,1].set_title('Acid')\n",
        "\n",
        "axis[0,2].scatter(easy_cols['rating'], easy_cols['body'])\n",
        "axis[0,2].plot(easy_cols['rating'], [easy_cols_mean['body'] for i in range(len(easy_cols['rating']))], color='black')\n",
        "axis[0,2].set_title('Body')\n",
        "axis[1,0].scatter(easy_cols['rating'], easy_cols['flavor'])\n",
        "axis[1,0].plot(easy_cols['rating'], [easy_cols_mean['flavor'] for i in range(len(easy_cols['rating']))], color='black')\n",
        "axis[1,0].set_title('Flavor')\n",
        "\n",
        "axis[1,1].scatter(easy_cols['rating'], easy_cols['aftertaste'])\n",
        "axis[1,1].plot(easy_cols['rating'], [easy_cols_mean['aftertaste'] for i in range(len(easy_cols['rating']))], color='black')\n",
        "axis[1,1].set_title('Aftertaste')\n",
        "\n",
        "axis[1,2].scatter(easy_cols['rating'], easy_cols['with_milk'])\n",
        "axis[1,2].plot(easy_cols['rating'], [easy_cols_mean['with_milk'] for i in range(len(easy_cols['rating']))], color='black')\n",
        "axis[1,2].set_title('With Milk')\n",
        "#axis[1,2].scatter(easy_cols['rating'], easy_cols['agtron'])\n",
        "#axis[1,2].set_title('Agtron')\n",
        "\n",
        "plt.show()"
      ]
    },
    {
      "cell_type": "markdown",
      "id": "-2Y-I1xixIlG",
      "metadata": {
        "id": "-2Y-I1xixIlG"
      },
      "source": [
        "## Data Preprocessing\n",
        "### Handling NaNs\n",
        "\n",
        "In the next three cells we check the columns for NaN values, and replace them with the respective mean."
      ]
    },
    {
      "cell_type": "code",
      "execution_count": null,
      "id": "72d7cc0b",
      "metadata": {
        "colab": {
          "base_uri": "https://localhost:8080/"
        },
        "id": "72d7cc0b",
        "outputId": "4fe2c0d4-9efc-4dfb-9e7e-7c317214e438"
      },
      "outputs": [],
      "source": [
        "print('aroma: ', easy_cols['aroma'].isnull().sum())\n",
        "print('acid: ', easy_cols['acid'].isnull().sum())\n",
        "print('body: ', easy_cols['body'].isnull().sum())\n",
        "print('flavor: ', easy_cols['flavor'].isnull().sum())\n",
        "print('aftertaste: ', easy_cols['aftertaste'].isnull().sum())\n",
        "print('with_milk: ', easy_cols['with_milk'].isnull().sum())"
      ]
    },
    {
      "cell_type": "markdown",
      "id": "lJWpU5krS9si",
      "metadata": {
        "id": "lJWpU5krS9si"
      },
      "source": [
        "As acid is an important characteristic for the overall taste of coffee, it's suprising that it's the feature with most NaN values.\n",
        "When dealing with NaNs, we therefore replace them by the means of the features, in order to not influence the overall mean\n",
        "of important features.\n",
        "\n",
        "As with_milk is almost all NaN values, we drop this feature."
      ]
    },
    {
      "cell_type": "code",
      "execution_count": null,
      "id": "56907922",
      "metadata": {
        "id": "56907922"
      },
      "outputs": [],
      "source": [
        "easy_cols.loc[easy_cols['aroma'].isnull(), 'aroma'] = easy_cols_mean['aroma']\n",
        "easy_cols.loc[easy_cols['acid'].isnull(), 'acid'] = easy_cols_mean['acid']\n",
        "easy_cols.loc[easy_cols['aftertaste'].isnull(), 'aftertaste'] = easy_cols_mean['aftertaste']\n",
        "easy_cols.loc[easy_cols['body'].isnull(), 'body'] = easy_cols_mean['body']\n",
        "easy_cols.loc[easy_cols['flavor'].isnull(), 'flavor'] = easy_cols_mean['flavor']"
      ]
    },
    {
      "cell_type": "code",
      "execution_count": null,
      "id": "9bd05274",
      "metadata": {
        "colab": {
          "base_uri": "https://localhost:8080/"
        },
        "id": "9bd05274",
        "outputId": "e8341597-b3a6-40b0-da2f-82d66efc7777"
      },
      "outputs": [],
      "source": [
        "# Again checking NaN values, are all gone?\n",
        "print('aroma: ', easy_cols['aroma'].isnull().sum())\n",
        "print('acid: ', easy_cols['acid'].isnull().sum())\n",
        "print('aftertaste: ', easy_cols['aftertaste'].isnull().sum())\n",
        "print('body: ', easy_cols['body'].isnull().sum())\n",
        "print('flavor: ', easy_cols['flavor'].isnull().sum())"
      ]
    },
    {
      "cell_type": "code",
      "execution_count": null,
      "id": "1c7e69b4",
      "metadata": {
        "colab": {
          "base_uri": "https://localhost:8080/",
          "height": 416
        },
        "id": "1c7e69b4",
        "outputId": "36cef471-fe6c-4487-be90-c5be80543166"
      },
      "outputs": [],
      "source": [
        "fig, axis = plt.subplots(2, 3)\n",
        "fig.patch.set_facecolor('white')\n",
        "\n",
        "axis[0,0].scatter(easy_cols['rating'], easy_cols['aroma'])\n",
        "axis[0,0].plot(easy_cols['rating'], [easy_cols_mean['aroma'] for i in range(len(easy_cols['rating']))], color='black')\n",
        "axis[0,0].set_title('Aroma')\n",
        "axis[0,1].scatter(easy_cols['rating'], easy_cols['acid'])\n",
        "axis[0,1].plot(easy_cols['rating'], [easy_cols_mean['acid'] for i in range(len(easy_cols['rating']))], color='black')\n",
        "axis[0,1].set_title('Acid')\n",
        "axis[1,0].scatter(easy_cols['rating'], easy_cols['body'])\n",
        "axis[1,0].plot(easy_cols['rating'], [easy_cols_mean['body'] for i in range(len(easy_cols['rating']))], color='black')\n",
        "axis[1,0].set_title('Body')\n",
        "axis[1,1].scatter(easy_cols['rating'], easy_cols['flavor'])\n",
        "axis[1,1].plot(easy_cols['rating'], [easy_cols_mean['flavor'] for i in range(len(easy_cols['rating']))], color='black')\n",
        "axis[1,1].set_title('Flavor')\n",
        "axis[0,2].scatter(easy_cols['rating'], easy_cols['aftertaste'])\n",
        "axis[0,2].plot(easy_cols['rating'], [easy_cols_mean['aftertaste'] for i in range(len(easy_cols['rating']))], color='black')\n",
        "axis[0,2].set_title('Aftertaste')\n",
        "#axis[1,2].scatter(easy_cols['rating'], easy_cols['agtron'])\n",
        "#axis[1,2].set_title('Agtron')\n",
        "\n",
        "plt.show()"
      ]
    },
    {
      "cell_type": "markdown",
      "id": "23c9ea21",
      "metadata": {
        "id": "23c9ea21"
      },
      "source": [
        "## Plot histograms"
      ]
    },
    {
      "cell_type": "code",
      "execution_count": null,
      "id": "996bfba1",
      "metadata": {
        "colab": {
          "base_uri": "https://localhost:8080/",
          "height": 416
        },
        "id": "996bfba1",
        "outputId": "04813bb0-de2f-4634-98df-200b38340307"
      },
      "outputs": [],
      "source": [
        "fig, axis = plt.subplots(2, 3)\n",
        "fig.patch.set_facecolor('white')\n",
        "\n",
        "bins='auto'\n",
        "\n",
        "axis[0,0].hist(easy_cols['rating'], bins=bins)\n",
        "axis[0,0].axvline(easy_cols_mean['rating'], color='red', linestyle='-', linewidth=2)\n",
        "axis[0,0].text(easy_cols_mean['rating']-1.25,30,'mean',color='red', rotation=90)\n",
        "axis[0,0].set_xlabel('Rating Score')\n",
        "axis[0,0].set_ylabel('Value Count')\n",
        "axis[0,0].set_title('Rating')\n",
        "\n",
        "axis[1,0].hist(easy_cols['aroma'], bins=bins)\n",
        "axis[1,0].axvline(easy_cols_mean['aroma'], color='red', linestyle='-', linewidth=2)\n",
        "axis[1,0].text(easy_cols_mean['aroma']-.25,30,'mean',color='red', rotation=90)\n",
        "axis[1,0].set_xlabel('Aroma Score')\n",
        "axis[1,0].set_ylabel('Value Count')\n",
        "axis[1,0].set_title('Aroma')\n",
        "\n",
        "axis[0,1].hist(easy_cols['acid'], bins=bins)\n",
        "axis[0,1].axvline(easy_cols_mean['acid'], color='red', linestyle='-', linewidth=2)\n",
        "axis[0,1].text(easy_cols_mean['acid']-.35,30,'mean',color='red', rotation=90)\n",
        "axis[0,1].set_xlabel('Acid Score')\n",
        "axis[0,1].set_ylabel('Value Count')\n",
        "axis[0,1].set_title('Acid')\n",
        "\n",
        "axis[1,1].hist(easy_cols['body'], bins=bins)\n",
        "axis[1,1].axvline(easy_cols_mean['body'], color='red', linestyle='-', linewidth=2)\n",
        "axis[1,1].text(easy_cols_mean['body']-.25,30,'mean',color='red', rotation=90)\n",
        "axis[1,1].set_xlabel('Body Score')\n",
        "axis[1,1].set_ylabel('Value Count')\n",
        "axis[1,1].set_title('Body')\n",
        "\n",
        "axis[0,2].hist(easy_cols['flavor'], bins=bins)\n",
        "axis[0,2].axvline(easy_cols_mean['flavor'], color='red', linestyle='-', linewidth=2)\n",
        "axis[0,2].text(easy_cols_mean['flavor']-.35,40,'mean',color='red', rotation=90)\n",
        "axis[0,2].set_xlabel('Flavor Score')\n",
        "axis[0,2].set_ylabel('Value Count')\n",
        "axis[0,2].set_title('Flavor')\n",
        "\n",
        "axis[1,2].hist(easy_cols['aftertaste'], bins=bins)\n",
        "axis[1,2].axvline(easy_cols_mean['aftertaste'], color='red', linestyle='-', linewidth=2)\n",
        "axis[1,2].text(easy_cols_mean['aftertaste']-.4,30,'mean',color='red', rotation=90)\n",
        "axis[1,2].set_xlabel('Aftertaste Score')\n",
        "axis[1,2].set_ylabel('Value Count')\n",
        "axis[1,2].set_title('Aftertaste')\n",
        "\n",
        "plt.show()"
      ]
    },
    {
      "cell_type": "markdown",
      "id": "dyOQQzkCTjwV",
      "metadata": {
        "id": "dyOQQzkCTjwV"
      },
      "source": [
        "### Linear Regression\n",
        "\n",
        "As baseline, we fit a simple linear regression models to inspect correlation between single features and rating scores."
      ]
    },
    {
      "cell_type": "code",
      "execution_count": null,
      "id": "8c5fb06b",
      "metadata": {
        "colab": {
          "base_uri": "https://localhost:8080/",
          "height": 416
        },
        "id": "8c5fb06b",
        "outputId": "087795f1-152f-47a1-c7db-471f5712bf61"
      },
      "outputs": [],
      "source": [
        "from sklearn.linear_model import LinearRegression\n",
        "import numpy as np\n",
        "\n",
        "reg_aroma = LinearRegression().fit(easy_cols['aroma'].values.reshape(-1, 1), easy_cols['rating'].values.reshape(-1, 1))\n",
        "y_aroma = reg_aroma.predict(easy_cols['aroma'].values.reshape(-1, 1))\n",
        "\n",
        "reg_acid = LinearRegression().fit(easy_cols['acid'].values.reshape(-1, 1), easy_cols['rating'].values.reshape(-1, 1))\n",
        "y_acid = reg_acid.predict(easy_cols['acid'].values.reshape(-1, 1))\n",
        "\n",
        "reg_body = LinearRegression().fit(easy_cols['body'].values.reshape(-1, 1), easy_cols['rating'].values.reshape(-1, 1))\n",
        "y_body = reg_body.predict(easy_cols['body'].values.reshape(-1, 1))\n",
        "\n",
        "reg_flavor = LinearRegression().fit(easy_cols['flavor'].values.reshape(-1, 1), easy_cols['rating'].values.reshape(-1, 1))\n",
        "y_flavor = reg_flavor.predict(easy_cols['flavor'].values.reshape(-1, 1))\n",
        "\n",
        "reg_aftertaste = LinearRegression().fit(easy_cols['aftertaste'].values.reshape(-1, 1), easy_cols['rating'].values.reshape(-1, 1))\n",
        "y_aftertaste = reg_aftertaste.predict(easy_cols['aftertaste'].values.reshape(-1, 1))\n",
        "\n",
        "\n",
        "fig, axis = plt.subplots(2, 3)\n",
        "axis[0,0].scatter(easy_cols['rating'], easy_cols['aroma'])\n",
        "axis[0,0].plot(y_aroma, easy_cols['aroma'], color='red')\n",
        "axis[0,0].set_xlabel('Rating Score')\n",
        "axis[0,0].set_ylabel('Aroma Score')\n",
        "axis[0,0].set_title('Aroma')\n",
        "\n",
        "axis[0,1].scatter(easy_cols['rating'], easy_cols['acid'])\n",
        "axis[0,1].plot(y_acid, easy_cols['acid'], color='red')\n",
        "axis[0,1].set_xlabel('Rating Score')\n",
        "axis[0,1].set_ylabel('Acid Score')\n",
        "axis[0,1].set_title('Acid')\n",
        "\n",
        "axis[1,0].scatter(easy_cols['rating'], easy_cols['body'])\n",
        "axis[1,0].plot(y_body, easy_cols['body'], color='red')\n",
        "axis[1,0].set_xlabel('Rating Score')\n",
        "axis[1,0].set_ylabel('Body Score')\n",
        "axis[1,0].set_title('Body')\n",
        "\n",
        "axis[1,1].scatter(easy_cols['rating'], easy_cols['flavor'])\n",
        "axis[1,1].plot(y_flavor, easy_cols['flavor'], color='red')\n",
        "axis[1,1].set_xlabel('Rating Score')\n",
        "axis[1,1].set_ylabel('Flavor Score')\n",
        "axis[1,1].set_title('Flavor')\n",
        "\n",
        "axis[0,2].scatter(easy_cols['rating'], easy_cols['aftertaste'])\n",
        "axis[0,2].plot(y_aftertaste, easy_cols['aftertaste'], color='red')\n",
        "axis[0,2].set_xlabel('Rating Score')\n",
        "axis[0,2].set_ylabel('Aftertaste Score')\n",
        "axis[0,2].set_title('Aftertaste')\n",
        "\"\"\"\n",
        "for i in range(len(axis)):\n",
        "    for j in range(len(axis[0])):\n",
        "        axis[i][j].plot(easy_cols['rating'], easy_cols)\n",
        "\"\"\"        \n",
        "plt.show()"
      ]
    },
    {
      "cell_type": "markdown",
      "id": "jRa2UlscuEFx",
      "metadata": {
        "id": "jRa2UlscuEFx"
      },
      "source": [
        "### Feature Importance with linear regression\n",
        "\n",
        "In the following we look at the coefficiants of the linear regression, depending on different features. We can see that as expected, all chosen features are important indicators of coffee ratings. Model outputs are more sensitive to larger values. We will see how the model performs if we iteratively drop one of the features and redo the regression."
      ]
    },
    {
      "cell_type": "code",
      "execution_count": null,
      "id": "UxTcyv5hh0oG",
      "metadata": {
        "id": "UxTcyv5hh0oG"
      },
      "outputs": [],
      "source": [
        "# Importance of features for linear regression"
      ]
    },
    {
      "cell_type": "code",
      "execution_count": null,
      "id": "0kYML6NZh3jN",
      "metadata": {
        "colab": {
          "base_uri": "https://localhost:8080/"
        },
        "id": "0kYML6NZh3jN",
        "outputId": "121c7325-8f0a-4c3c-d768-9aa69bc06aa5"
      },
      "outputs": [],
      "source": [
        "print(\"aroma coef: \", reg_aroma.coef_)\n",
        "print(\"body coef: \", reg_body.coef_)\n",
        "print(\"flavor coef: \", reg_flavor.coef_)\n",
        "print(\"acid coef: \", reg_acid.coef_)\n",
        "print(\"aftertaste coef: \", reg_aftertaste.coef_)"
      ]
    },
    {
      "cell_type": "markdown",
      "id": "0_AzsKmmXe6G",
      "metadata": {
        "id": "0_AzsKmmXe6G"
      },
      "source": [
        "## Prediction"
      ]
    },
    {
      "cell_type": "markdown",
      "id": "LLQNE_ski40H",
      "metadata": {
        "id": "LLQNE_ski40H"
      },
      "source": [
        "\n",
        "### Mutliple Linear Regression\n",
        "\n",
        "\n",
        "We now train several multiple linear regression model.\n",
        "Structure is as follows:\n",
        "\n",
        "\n",
        "\n",
        "1.   Training with all features\n",
        "2.   Training with all features besides aroma\n",
        "3.   Training with all features besides acid\n",
        "4.   Training with all features besides body\n",
        "5.   Training with all features besides flavor\n",
        "6.   Training with all features besides aftertaste\n",
        "\n",
        "As you can see in the code, for the final experiments we used the same random train/test split of the dataset for all models of multiple linear regression as well as for the random forest regressor. We did, however, also perform all these experiments with a newly randomized train/test split for all different models. \n",
        "\n",
        "Performance always stayed in the same confidence intervals.\n"
      ]
    },
    {
      "cell_type": "code",
      "execution_count": null,
      "id": "utW6AlYOj9Pw",
      "metadata": {
        "colab": {
          "base_uri": "https://localhost:8080/"
        },
        "id": "utW6AlYOj9Pw",
        "outputId": "65b492ea-f3ba-492d-89ae-902af02933a0"
      },
      "outputs": [],
      "source": [
        "from sklearn.metrics import mean_squared_error\n",
        "from sklearn.model_selection import train_test_split\n",
        "\n",
        "X = easy_cols.drop(labels=['rating', 'with_milk'], axis=1).values#,'agtron'], axis=1).values\n",
        "y = easy_cols['rating'].values#.reshape(-1, 1)\n",
        "\n",
        "X_train, X_test, y_train, y_test = train_test_split(X, y, test_size=0.33, random_state=42)\n",
        "\n",
        "\n",
        "reg = LinearRegression().fit(X_train, y_train)\n",
        "y_pred_mlr = reg.predict(X_test)\n",
        "\n",
        "mr_acc_total = reg.score(X_test, y_test)\n",
        "mr_mse_total = mean_squared_error(y_test, y_pred_mlr)\n",
        "\n",
        "print(\"Acc: \", mr_acc_total, \"MSE: \", mr_mse_total)\n",
        "print(easy_cols.head())\n",
        "print(\"coef: \", reg.coef_)"
      ]
    },
    {
      "cell_type": "code",
      "execution_count": null,
      "id": "6mS0Za5blqVe",
      "metadata": {
        "colab": {
          "base_uri": "https://localhost:8080/",
          "height": 350
        },
        "id": "6mS0Za5blqVe",
        "outputId": "dfe6955a-969f-4b65-9e2d-715050aa492e"
      },
      "outputs": [],
      "source": [
        "y_pred_distinct = [int(i) for i in y_pred_mlr]\n",
        "unique_values, unique_counts = np.unique(np.asarray(y_pred_distinct), return_counts=True)\n",
        "unique_value_counts = {}\n",
        "\n",
        "for i,y in zip(unique_values, unique_counts):\n",
        "  unique_value_counts[i] = y\n",
        "\n",
        "#unique_value_counts\n",
        "\n",
        "# setting figure size\n",
        "plt.rcParams['figure.figsize'] = [10, 5]\n",
        "\n",
        "plt.hist(y_pred_mlr, bins=20)\n",
        "plt.axvline(easy_cols_mean['rating'], color='red', linestyle='-', linewidth=2, label='true mean')\n",
        "#plt.text(easy_cols_mean['rating']-0.25,10,'true mean',color='red', rotation=90)\n",
        "plt.axvline(np.mean(y_pred_mlr), color='black', linestyle='-', linewidth=2, label='prediction mean')\n",
        "#plt.text(np.mean(y_pred)-0.25,90,'pred mean',color='green', rotation=90)\n",
        "plt.xlabel('Rating Score')\n",
        "plt.ylabel('Value Count')\n",
        "plt.legend()\n",
        "plt.title('Predicted Ratings')\n",
        "plt.show()"
      ]
    },
    {
      "cell_type": "code",
      "execution_count": null,
      "id": "JO71rtbNv5lW",
      "metadata": {
        "colab": {
          "base_uri": "https://localhost:8080/"
        },
        "id": "JO71rtbNv5lW",
        "outputId": "667493a2-215f-42e4-d92e-2e48ef7dd812"
      },
      "outputs": [],
      "source": [
        "# Dropping aroma\n",
        "\"\"\"\n",
        "X = easy_cols.drop(labels=['rating','with_milk', 'aroma'], axis=1).values\n",
        "y = easy_cols['rating'].values#.reshape(-1, 1)\n",
        "\n",
        "X_train, X_test, y_train, y_test = train_test_split(X, y, test_size=0.33, random_state=42)\n",
        "\"\"\"\n",
        "\n",
        "reg = LinearRegression().fit(np.delete(X_train, 0, axis=1), y_train) #X_train, y_train)\n",
        "y_pred = reg.predict(np.delete(X_test, 0, axis=1)) #X_test)\n",
        "\n",
        "mr_acc_aroma = reg.score(np.delete(X_test, 0, axis=1), y_test)\n",
        "mr_mse_aroma = mean_squared_error(y_test, y_pred)\n",
        "\n",
        "print(\"Acc: \", mr_acc_aroma, \"MSE: \", mr_mse_aroma)"
      ]
    },
    {
      "cell_type": "code",
      "execution_count": null,
      "id": "iqtQHcmMwAQ3",
      "metadata": {
        "colab": {
          "base_uri": "https://localhost:8080/"
        },
        "id": "iqtQHcmMwAQ3",
        "outputId": "ede181b2-b74d-46b7-ab21-f3a45c09df0a"
      },
      "outputs": [],
      "source": [
        "# Dropping acid\n",
        "\"\"\"\n",
        "X = easy_cols.drop(labels=['rating','with_milk', 'acid'], axis=1).values\n",
        "y = easy_cols['rating'].values#.reshape(-1, 1)\n",
        "\n",
        "X_train, X_test, y_train, y_test = train_test_split(X, y, test_size=0.33, random_state=42)\n",
        "\"\"\"\n",
        "\n",
        "reg = LinearRegression().fit(np.delete(X_train, 1, axis=1), y_train)#X_train, y_train)\n",
        "y_pred = reg.predict(np.delete(X_test, 1, axis=1))#X_test)\n",
        "\n",
        "mr_acc_acid = reg.score(np.delete(X_test, 1, axis=1), y_test)\n",
        "mr_mse_acid = mean_squared_error(y_test, y_pred)\n",
        "\n",
        "print(\"Acc: \", mr_acc_acid, \"MSE: \", mr_mse_acid)"
      ]
    },
    {
      "cell_type": "code",
      "execution_count": null,
      "id": "tG7TZMLAwKHZ",
      "metadata": {
        "colab": {
          "base_uri": "https://localhost:8080/"
        },
        "id": "tG7TZMLAwKHZ",
        "outputId": "54b8d72e-cfe5-42a8-fd35-a679675631af"
      },
      "outputs": [],
      "source": [
        "# Dropping body\n",
        "\"\"\"\n",
        "X = easy_cols.drop(labels=['rating','with_milk', 'body'], axis=1).values\n",
        "y = easy_cols['rating'].values#.reshape(-1, 1)\n",
        "\n",
        "X_train, X_test, y_train, y_test = train_test_split(X, y, test_size=0.33, random_state=42)\n",
        "\"\"\"\n",
        "\n",
        "reg = LinearRegression().fit(np.delete(X_train, 2, axis=1), y_train) #X_train, y_train)\n",
        "y_pred = reg.predict(np.delete(X_test, 2, axis=1))#X_test)\n",
        "\n",
        "mr_acc_body = reg.score(np.delete(X_test, 2, axis=1), y_test)\n",
        "mr_mse_body = mean_squared_error(y_test, y_pred)\n",
        "\n",
        "print(\"Acc: \", mr_acc_body, \"MSE: \", mr_mse_body)"
      ]
    },
    {
      "cell_type": "code",
      "execution_count": null,
      "id": "ubJJCC1twPLu",
      "metadata": {
        "colab": {
          "base_uri": "https://localhost:8080/"
        },
        "id": "ubJJCC1twPLu",
        "outputId": "33a13c10-c41d-402b-c353-ceb28257b577"
      },
      "outputs": [],
      "source": [
        "# Dropping flavor\n",
        "\"\"\"\n",
        "X = easy_cols.drop(labels=['rating','with_milk', 'flavor'], axis=1).values\n",
        "y = easy_cols['rating'].values#.reshape(-1, 1)\n",
        "\n",
        "X_train, X_test, y_train, y_test = train_test_split(X, y, test_size=0.33, random_state=42)\n",
        "\"\"\"\n",
        "\n",
        "reg = LinearRegression().fit(np.delete(X_train, 3, axis=1), y_train) #X_train, y_train)\n",
        "y_pred = reg.predict(np.delete(X_test, 3, axis=1))#X_test)\n",
        "\n",
        "mr_acc_flavor = reg.score(np.delete(X_test, 3, axis=1), y_test)\n",
        "mr_mse_flavor = mean_squared_error(y_test, y_pred)\n",
        "\n",
        "print(\"Acc: \", mr_acc_flavor, \"MSE: \", mr_mse_flavor)"
      ]
    },
    {
      "cell_type": "code",
      "execution_count": null,
      "id": "UX-Vz2e6wErP",
      "metadata": {
        "colab": {
          "base_uri": "https://localhost:8080/"
        },
        "id": "UX-Vz2e6wErP",
        "outputId": "6fd84366-b3bd-4d1d-a56b-bd12d4e1c59a"
      },
      "outputs": [],
      "source": [
        "# dropping aftertaste\n",
        "\"\"\"\n",
        "X = easy_cols.drop(labels=['rating','with_milk', 'aftertaste'], axis=1).values\n",
        "y = easy_cols['rating'].values#.reshape(-1, 1)\n",
        "\n",
        "X_train, X_test, y_train, y_test = train_test_split(X, y, test_size=0.33, random_state=42)\n",
        "\"\"\"\n",
        "\n",
        "reg = LinearRegression().fit(np.delete(X_train, 4, axis=1), y_train) #X_train, y_train)\n",
        "y_pred = reg.predict(np.delete(X_test, 4, axis=1))#X_test)\n",
        "\n",
        "mr_acc_aftertaste = reg.score(np.delete(X_test, 4, axis=1), y_test)\n",
        "mr_mse_aftertaste = mean_squared_error(y_test, y_pred)\n",
        "\n",
        "print(\"Acc: \", mr_acc_aftertaste, \"MSE: \", mr_mse_aftertaste)"
      ]
    },
    {
      "cell_type": "markdown",
      "id": "VKpAXS4Sguvf",
      "metadata": {
        "id": "VKpAXS4Sguvf"
      },
      "source": [
        "### Random Forest Regressor\n",
        "\n",
        "Perform same experiments as for multiple linear regression, now with a random forest regressor. Structure stays the same."
      ]
    },
    {
      "cell_type": "code",
      "execution_count": null,
      "id": "jWahL0HW0fZj",
      "metadata": {
        "id": "jWahL0HW0fZj"
      },
      "outputs": [],
      "source": [
        "from sklearn.model_selection import train_test_split\n",
        "from sklearn.ensemble import RandomForestClassifier, RandomForestRegressor\n",
        "from sklearn.metrics import f1_score\n",
        "from sklearn.metrics import mean_squared_error\n",
        "\n",
        "import math"
      ]
    },
    {
      "cell_type": "code",
      "execution_count": null,
      "id": "ePxx6SUs3ruC",
      "metadata": {
        "colab": {
          "base_uri": "https://localhost:8080/"
        },
        "id": "ePxx6SUs3ruC",
        "outputId": "0a06a2f3-26d4-4ae6-803f-6217f7d3bb9e"
      },
      "outputs": [],
      "source": [
        "# only uncomment if we want to randomize the train/test split again\n",
        "#X_train, X_test, y_train, y_test = train_test_split(X, y, test_size=0.33, random_state=42)\n",
        "\n",
        "random_forest = RandomForestRegressor()\n",
        "random_forest.fit(X_train, y_train)\n",
        "\n",
        "\n",
        "rf_acc_total = random_forest.score(X_test, y_test)\n",
        "y_pred_rf = random_forest.predict(X_test)\n",
        "#rf_acc_total\n",
        "rf_mse_total = mean_squared_error(y_test, y_pred_rf)\n",
        "\n",
        "print(\"Acc: \", rf_acc_total, \"MSE: \", rf_mse_total)"
      ]
    },
    {
      "cell_type": "code",
      "execution_count": null,
      "id": "qejxfNvqnfQC",
      "metadata": {
        "colab": {
          "base_uri": "https://localhost:8080/",
          "height": 350
        },
        "id": "qejxfNvqnfQC",
        "outputId": "a7ac0811-1f99-4f51-ad2a-4f1c0651f083"
      },
      "outputs": [],
      "source": [
        "\n",
        "unique_values, unique_counts = np.unique(y_pred_rf, return_counts=True)\n",
        "unique_value_counts = {}\n",
        "\n",
        "for i,y_ in zip(unique_values, unique_counts):\n",
        "  unique_value_counts[int(i)] = y_\n",
        "\n",
        "#unique_value_counts\n",
        "# setting figure size\n",
        "plt.rcParams['figure.figsize'] = [10, 5]\n",
        "\n",
        "plt.hist(y_pred_rf, bins=20)\n",
        "plt.axvline(easy_cols_mean['rating'], color='red', linestyle='-', linewidth=2, label='true mean')\n",
        "#plt.text(easy_cols_mean['rating']-0.25,10,'true mean',color='red', rotation=90)\n",
        "plt.axvline(np.mean(y_pred_rf), color='black', linestyle='-', linewidth=2, label='prediction mean')\n",
        "#plt.text(np.mean(y_pred)-0.25,90,'pred mean',color='green', rotation=90)\n",
        "plt.xlabel('Rating Score')\n",
        "plt.ylabel('Value Count')\n",
        "plt.legend()\n",
        "plt.title('Predicted Ratings')\n",
        "plt.show()"
      ]
    },
    {
      "cell_type": "code",
      "execution_count": null,
      "id": "095-8RHI2rsa",
      "metadata": {
        "colab": {
          "base_uri": "https://localhost:8080/"
        },
        "id": "095-8RHI2rsa",
        "outputId": "8f47e5a4-d0e3-44ab-8207-c3dc16e0586a"
      },
      "outputs": [],
      "source": [
        "# sanity check of predicted variables.\n",
        "\n",
        "print(np.unique(y_train.astype(int), return_counts='True'), len(y_test))\n",
        "print(np.unique(y_test.astype(int), return_counts='True'), len(y_test))\n",
        "print(np.unique(y_pred_rf.astype(int), return_counts='True'), len(y_pred_rf))\n",
        "print(np.unique(y_pred_mlr.astype(int), return_counts='True'), len(y_pred_mlr))"
      ]
    },
    {
      "cell_type": "code",
      "execution_count": null,
      "id": "O3YL9uvDiQlv",
      "metadata": {
        "colab": {
          "base_uri": "https://localhost:8080/"
        },
        "id": "O3YL9uvDiQlv",
        "outputId": "6b0e758f-f302-45eb-a1d3-fbaf523501f7"
      },
      "outputs": [],
      "source": [
        "# leavin aroma out\n",
        "\"\"\"\n",
        "X_aroma = np.delete(X, 0, axis=1)\n",
        "\n",
        "#random_forest = RandomForestClassifier()\n",
        "random_forest = RandomForestRegressor(n_estimators=100)\n",
        "\n",
        "X_train, X_test, y_train, y_test = train_test_split(X_aroma, y, test_size=0.33, random_state=42)\n",
        "\"\"\"\n",
        "random_forest=RandomForestRegressor()\n",
        "random_forest.fit(np.delete(X_train, 0, axis=1), y_train)#X_train, y_train)\n",
        "\n",
        "y_pred = random_forest.predict(np.delete(X_test, 0, axis=1))#X_test)\n",
        "rf_acc_aroma = random_forest.score(np.delete(X_test, 0, axis=1), y_test)\n",
        "rf_mse_aroma = mean_squared_error(y_test, y_pred)\n",
        "\n",
        "print(\"Acc: \", rf_acc_aroma, \"MSE: \", rf_mse_aroma)"
      ]
    },
    {
      "cell_type": "code",
      "execution_count": null,
      "id": "QWBxDpLxmG1M",
      "metadata": {
        "colab": {
          "base_uri": "https://localhost:8080/"
        },
        "id": "QWBxDpLxmG1M",
        "outputId": "4de4ab25-a06d-4904-81cc-b2041409295b"
      },
      "outputs": [],
      "source": [
        "# leavin acid out\n",
        "\"\"\"\n",
        "X_acid = np.delete(X, 1, axis=1)\n",
        "\n",
        "#random_forest = RandomForestClassifier()\n",
        "random_forest = RandomForestRegressor()\n",
        "\n",
        "X_train, X_test, y_train, y_test = train_test_split(X_acid, y, test_size=0.33, random_state=42)\n",
        "\"\"\"\n",
        "random_forest=RandomForestRegressor()\n",
        "random_forest.fit(np.delete(X_train, 1, axis=1), y_train)#X_train, y_train)\n",
        "\n",
        "\n",
        "y_pred = random_forest.predict(np.delete(X_test, 1, axis=1))#X_test)\n",
        "rf_acc_acid = random_forest.score(np.delete(X_test, 1, axis=1), y_test)\n",
        "rf_mse_acid = mean_squared_error(y_test, y_pred)\n",
        "\n",
        "print(\"Acc: \", rf_acc_acid, \"MSE: \", rf_mse_acid)"
      ]
    },
    {
      "cell_type": "code",
      "execution_count": null,
      "id": "kA3C1CdtlPU5",
      "metadata": {
        "colab": {
          "base_uri": "https://localhost:8080/"
        },
        "id": "kA3C1CdtlPU5",
        "outputId": "e2b8a52f-6e9c-4cf8-e836-747f5cb65c3d"
      },
      "outputs": [],
      "source": [
        "# leavin body out\n",
        "\"\"\"\n",
        "X_body = np.delete(X, 2, axis=1)\n",
        "\n",
        "#random_forest = RandomForestClassifier()\n",
        "random_forest = RandomForestRegressor()\n",
        "\n",
        "X_train, X_test, y_train, y_test = train_test_split(X_body, y, test_size=0.33, random_state=42)\n",
        "\"\"\"\n",
        "random_forest = RandomForestRegressor()\n",
        "random_forest.fit(np.delete(X_train, 2, axis=1), y_train) #X_train, y_train)\n",
        "\n",
        "\n",
        "y_pred = random_forest.predict(np.delete(X_test, 2, axis=1))#X_test)\n",
        "rf_acc_body = random_forest.score(np.delete(X_test, 2, axis=1), y_test)\n",
        "rf_mse_body = mean_squared_error(y_test, y_pred)\n",
        "\n",
        "print(\"Acc: \", rf_acc_body, \"MSE: \", rf_mse_body)"
      ]
    },
    {
      "cell_type": "code",
      "execution_count": null,
      "id": "02ksoe8TmZd6",
      "metadata": {
        "colab": {
          "base_uri": "https://localhost:8080/"
        },
        "id": "02ksoe8TmZd6",
        "outputId": "72ee3476-d706-47ff-f82a-725c47003e83"
      },
      "outputs": [],
      "source": [
        "# leavin flavor out\n",
        "\"\"\"\n",
        "X_flavor = np.delete(X, 3, axis=1)\n",
        "\n",
        "#random_forest = RandomForestClassifier()\n",
        "random_forest = RandomForestRegressor()\n",
        "\n",
        "X_train, X_test, y_train, y_test = train_test_split(X_flavor, y, test_size=0.33, random_state=42)\n",
        "\"\"\"\n",
        "random_forest=RandomForestRegressor()\n",
        "random_forest.fit(np.delete(X_train, 3, axis=1), y_train) #X_train, y_train)\n",
        "\n",
        "\n",
        "y_pred = random_forest.predict(np.delete(X_test, 3, axis=1))#X_test)\n",
        "rf_acc_flavor = random_forest.score(np.delete(X_test, 3, axis=1), y_test)\n",
        "rf_mse_flavor = mean_squared_error(y_test, y_pred)\n",
        "\n",
        "print(\"Acc: \", rf_acc_flavor, \"MSE: \", rf_mse_flavor)"
      ]
    },
    {
      "cell_type": "code",
      "execution_count": null,
      "id": "GNdcl1CEmfGW",
      "metadata": {
        "colab": {
          "base_uri": "https://localhost:8080/"
        },
        "id": "GNdcl1CEmfGW",
        "outputId": "962a014e-e89a-4406-fe24-4c15aecd7619"
      },
      "outputs": [],
      "source": [
        "# leavin aftertaste out\n",
        "\"\"\"\n",
        "X_aftertaste = np.delete(X, 4, axis=1)\n",
        "\n",
        "#random_forest = RandomForestClassifier()\n",
        "random_forest = RandomForestRegressor()\n",
        "\n",
        "X_train, X_test, y_train, y_test = train_test_split(X_aftertaste, y, test_size=0.33, random_state=42)\n",
        "\"\"\"\n",
        "random_forest=RandomForestRegressor()\n",
        "random_forest.fit(np.delete(X_train, 4, axis=1), y_train) #X_train, y_train)\n",
        "\n",
        "\n",
        "y_pred = random_forest.predict(np.delete(X_test, 4, axis=1))#X_test)\n",
        "rf_acc_aftertaste = random_forest.score(np.delete(X_test, 4, axis=1), y_test)\n",
        "rf_mse_aftertaste = mean_squared_error(y_test, y_pred)\n",
        "\n",
        "print(\"Acc: \", rf_acc_aftertaste, \"MSE: \", rf_mse_aftertaste)"
      ]
    },
    {
      "cell_type": "markdown",
      "id": "TaUvfaYiXLs0",
      "metadata": {
        "id": "TaUvfaYiXLs0"
      },
      "source": [
        "### Analyzing Results\n",
        "\n",
        "\n",
        "We first compare predictions of multiple linear regression with the random forest regressor. We plot a histogram of the predictions.\n",
        "\n"
      ]
    },
    {
      "cell_type": "code",
      "execution_count": null,
      "id": "X9r-FYNf_Lr_",
      "metadata": {
        "colab": {
          "base_uri": "https://localhost:8080/",
          "height": 513
        },
        "id": "X9r-FYNf_Lr_",
        "outputId": "801faf86-f02b-4209-c8e1-8a0e84730834"
      },
      "outputs": [],
      "source": [
        "# setting figure size\n",
        "plt.rcParams['figure.figsize'] = [20, 8]\n",
        "\n",
        "fig, ax = plt.subplots(1, 2)\n",
        "bins = np.linspace(50, 100, 51, dtype=int)\n",
        "bins='fd'\n",
        "#bins= 30\n",
        "\n",
        "ax[1].hist(y_test, bins=bins, alpha=0.5, label='target', color='green')\n",
        "ax[1].hist(y_pred_rf.astype(int), bins=bins, alpha=0.7, label='prediction', color='#1f77b4')\n",
        "ax[1].axvline(easy_cols_mean['rating'], color='red', linestyle='-', linewidth=1, label='true mean')\n",
        "ax[1].axvline(np.mean(y_pred_rf.astype(int)), color='black', linestyle='-', linewidth=1, label='prediction mean')\n",
        "ax[1].set_xlabel('Rating Score')\n",
        "ax[1].set_ylabel('Value Count')\n",
        "ax[1].legend()\n",
        "ax[1].set_title('Random Forest')\n",
        "\n",
        "ax[0].hist(y_test, bins=bins, alpha=0.5, label='target', color='green')\n",
        "ax[0].hist(y_pred_mlr.astype(int), bins=bins, alpha=0.7, label='prediction', color='#ff7f0e')\n",
        "ax[0].axvline(easy_cols_mean['rating'], color='red', linestyle='-', linewidth=1, label='true mean')\n",
        "#plt.text(easy_cols_mean['rating']-0.25,10,'true mean',color='red', rotation=90)\n",
        "ax[0].axvline(np.mean(y_pred_mlr.astype(int)), color='black', linestyle='-', linewidth=1, label='prediction mean')\n",
        "#plt.text(np.mean(y_pred)-0.25,90,'pred mean',color='green', rotation=90)\n",
        "ax[0].set_xlabel('Rating Score')\n",
        "ax[0].set_ylabel('Value Count')\n",
        "ax[0].legend()\n",
        "ax[0].set_title('Multiple Linear Regression')\n",
        "\n",
        "plt.show()"
      ]
    },
    {
      "cell_type": "markdown",
      "id": "H-VTji2KUdJu",
      "metadata": {
        "id": "H-VTji2KUdJu"
      },
      "source": [
        "### Comparison of multiple linear regression and random forest\n",
        "\n",
        "We now compare prediction scores and mean square errors of the different models\n"
      ]
    },
    {
      "cell_type": "code",
      "execution_count": null,
      "id": "IEyL6g_K2PhU",
      "metadata": {
        "id": "IEyL6g_K2PhU"
      },
      "outputs": [],
      "source": [
        "\n",
        "import math\n",
        "\n",
        "def calc_confidence(errors, n=len(y_test), z=1.96):\n",
        "  #error +/- z * sqrt( (error * (1 - error)) / n) also known as Wilson score interval\n",
        "  #res = np.zeros((2, len(errors)))\n",
        "  res = []\n",
        "  for i, error in enumerate(errors):\n",
        "    interval = z * math.sqrt((error * (1 - error)) / n)\n",
        "    #res[0][i], res[1][i] = error-interval, error+interval\n",
        "    res.append(interval)\n",
        "  return res"
      ]
    },
    {
      "cell_type": "code",
      "execution_count": null,
      "id": "CFM3ESlXUaFk",
      "metadata": {
        "colab": {
          "base_uri": "https://localhost:8080/",
          "height": 565
        },
        "id": "CFM3ESlXUaFk",
        "outputId": "870eccaa-875a-479d-c354-f13945f48730"
      },
      "outputs": [],
      "source": [
        "# setting figure size\n",
        "plt.rcParams['figure.figsize'] = [20, 8]\n",
        "\n",
        "labels = ['total', '-aroma', '-acid', '-body', '-flavor', '-aftertaste']\n",
        "acc_rf = np.around(np.asarray([rf_acc_total, rf_acc_aroma, rf_acc_acid, rf_acc_body, rf_acc_flavor, rf_acc_aftertaste]), 3)\n",
        "acc_mr = np.around(np.asarray([mr_acc_total, mr_acc_aroma, mr_acc_acid, mr_acc_body, mr_acc_flavor, mr_acc_aftertaste]), 3)\n",
        "\n",
        "msr_rf = np.around(np.asarray([rf_mse_total, rf_mse_aroma, rf_mse_acid, rf_mse_body, rf_mse_flavor, rf_mse_aftertaste]), 3)\n",
        "msr_mr = np.around(np.asarray([mr_mse_total, mr_mse_aroma, mr_mse_acid, mr_mse_body, mr_mse_flavor, mr_mse_aftertaste]), 3)\n",
        "\n",
        "acc_rf_errors = calc_confidence(acc_rf)\n",
        "acc_mr_errors = calc_confidence(acc_mr)\n",
        "\n",
        "msr_rf_errors = calc_confidence(msr_rf)\n",
        "msr_mr_errors = calc_confidence(msr_mr)\n",
        "\n",
        "ticks = np.arange(len(labels))  # the label locations\n",
        "width = 0.35  # the width of the bars\n",
        "\n",
        "fig, ax = plt.subplots(1, 2)\n",
        "\n",
        "rects1 = ax[0].bar(ticks - width/2, acc_rf, width, label='Random forest')\n",
        "rects2 = ax[0].bar(ticks + width/2, acc_mr, width, label='Multiple Regression')\n",
        "\n",
        "# Add some text for labels, title and custom x-axis tick labels, etc.\n",
        "ax[0].set_ylabel('Scores')\n",
        "ax[0].set_title('Accuracy of Random Forest and Multiple Linear Regression')\n",
        "ax[0].set_xticks(ticks, labels)\n",
        "#ax[0].legend(bbox_to_anchor=(1.02, 0.1), loc='upper left', borderaxespad=0)\n",
        "#ax[0].legend(bbox_to_anchor=(1.02, 0.1), loc='lower left')\n",
        "\n",
        "ax[0].errorbar(ticks- width/2, acc_rf, yerr=acc_rf_errors, fmt=\"o\", color=\"r\")\n",
        "ax[0].errorbar(ticks+ width/2, acc_mr, yerr=acc_mr_errors, fmt=\"o\", color=\"r\")\n",
        "\n",
        "ax[0].bar_label(rects1, padding=3)\n",
        "ax[0].bar_label(rects2, padding=3)\n",
        "\n",
        "\n",
        "# Second Plot\n",
        "rects1_1 = ax[1].bar(ticks - width/2, msr_rf, width, label='Random forest')\n",
        "rects2_1 = ax[1].bar(ticks + width/2, msr_mr, width, label='Multiple Regression')\n",
        "\n",
        "# Add some text for labels, title and custom x-axis tick labels, etc.\n",
        "ax[1].set_ylabel('Scores')\n",
        "ax[1].set_title('Mean Squared Error of Random Forest and Multiple Linear Regression')\n",
        "ax[1].set_xticks(ticks, labels)\n",
        "ax[1].legend(bbox_to_anchor=(0.22,1), shadow='True')\n",
        "\n",
        "ax[1].errorbar(ticks- width/2, msr_rf, yerr=msr_rf_errors, fmt=\"o\", color=\"r\")\n",
        "ax[1].errorbar(ticks+ width/2, msr_mr, yerr=msr_mr_errors, fmt=\"o\", color=\"r\")\n",
        "\n",
        "ax[1].bar_label(rects1_1, padding=3)\n",
        "ax[1].bar_label(rects2_1, padding=3)\n",
        "\n",
        "fig.tight_layout()\n",
        "#fig.legend(loc='lower center')\n",
        "\n",
        "plt.show()                    "
      ]
    },
    {
      "cell_type": "markdown",
      "id": "OCNG2Q6iYVNY",
      "metadata": {
        "id": "OCNG2Q6iYVNY"
      },
      "source": [
        "Further Discussion of these results are presented in our paper."
      ]
    },
    {
      "cell_type": "code",
      "execution_count": null,
      "id": "m9vA34ltYZcH",
      "metadata": {
        "id": "m9vA34ltYZcH"
      },
      "outputs": [],
      "source": []
    }
  ],
  "metadata": {
    "colab": {
      "provenance": [],
      "toc_visible": true
    },
    "kernelspec": {
      "display_name": "base",
      "language": "python",
      "name": "python3"
    },
    "language_info": {
      "codemirror_mode": {
        "name": "ipython",
        "version": 3
      },
      "file_extension": ".py",
      "mimetype": "text/x-python",
      "name": "python",
      "nbconvert_exporter": "python",
      "pygments_lexer": "ipython3",
      "version": "3.9.13"
    },
    "vscode": {
      "interpreter": {
        "hash": "3067ead486e059ec00ffe7555bdb889e6e264a24dc711bf108106cc7baee8d5d"
      }
    }
  },
  "nbformat": 4,
  "nbformat_minor": 5
}
